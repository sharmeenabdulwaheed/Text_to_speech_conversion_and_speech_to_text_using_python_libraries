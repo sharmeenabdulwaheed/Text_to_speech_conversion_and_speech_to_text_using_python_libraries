{
 "cells": [
  {
   "cell_type": "markdown",
   "id": "3b9bdab7-ef3c-4637-966e-dcf89587c36e",
   "metadata": {},
   "source": [
    "## speech to text using speech recognition and google api"
   ]
  },
  {
   "cell_type": "code",
   "execution_count": 1,
   "id": "1dba74d7-1dd4-4069-ab35-0812c14be7bf",
   "metadata": {},
   "outputs": [],
   "source": [
    "\n",
    "#!pip install SpeechRecognition\n",
    "import speech_recognition as sr"
   ]
  },
  {
   "cell_type": "code",
   "execution_count": 5,
   "id": "9fc0f775-24e5-4b5a-a64d-3f13fd69348a",
   "metadata": {},
   "outputs": [
    {
     "name": "stdout",
     "output_type": "stream",
     "text": [
      "Hello, I am your translator. Lets start\n",
      "Adjusting for ambient noise... Please wait.\n",
      "Listening for your command...\n",
      "Recognizing...\n",
      "You said: mera naam sharmeen hai\n"
     ]
    }
   ],
   "source": [
    "#initialize built-in recognizer for speech\n",
    "recognizer = sr.Recognizer()\n",
    "\n",
    "# Set up the microphone\n",
    "with sr.Microphone() as source:\n",
    "    print(\"Hello, I am your translator. Lets start\")\n",
    "    print(\"Adjusting for ambient noise... Please wait.\")\n",
    "    recognizer.adjust_for_ambient_noise(source) # built in function to avoid ambient noices\n",
    "    print(\"Listening for your command...\")\n",
    "    # Listen for the first phrase\n",
    "    audio = recognizer.listen(source) \n",
    "\n",
    "\n",
    "\n",
    "\n",
    "try:\n",
    "    print(\"Recognizing...\")\n",
    "    text = recognizer.recognize_google(audio)\n",
    "    # text = recognizer.recognize_google(audio, languae=\"ur\")\n",
    "    print(\"You said: \" + text)\n",
    "\n",
    "except sr.UnknownValueError:\n",
    "    print(\"Sorry, I could not understand the audio.\")\n",
    "\n",
    "except sr.RequestError as e:\n",
    "    print(f\"Could not request results from Google Speech Recognition service; {e}\")"
   ]
  },
  {
   "cell_type": "markdown",
   "id": "02f9c5e9-68bb-4a8c-ba07-f1581acba1eb",
   "metadata": {},
   "source": [
    "## text to speech conversion"
   ]
  },
  {
   "cell_type": "code",
   "execution_count": 6,
   "id": "772c2fa0-eaab-40fe-aea8-410dae5dc589",
   "metadata": {},
   "outputs": [],
   "source": [
    "import pyttsx3\n",
    "engine = pyttsx3.init()"
   ]
  },
  {
   "cell_type": "code",
   "execution_count": 7,
   "id": "cfc8460e-82a8-401e-8553-863e043d3a89",
   "metadata": {},
   "outputs": [],
   "source": [
    "engine.setProperty('rate', 200)\n",
    "engine.setProperty('volume', 1)  \n",
    "voices = engine.getProperty('voices')\n",
    "engine.setProperty('voice', voices[1].id)  #Female voice (0 for male voice)\n"
   ]
  },
  {
   "cell_type": "markdown",
   "id": "115dcb36-a7be-4ab3-b58d-d57b863dc2a5",
   "metadata": {},
   "source": [
    "##we can change the rate at which the computer will speak. It is right now 200 words per minute but can be changed. The volume ranges between 0 and 1. O for the mute and 1 for the highest, it can also be adjusted between 0 and 1"
   ]
  },
  {
   "cell_type": "code",
   "execution_count": 8,
   "id": "95e7fed8-011a-4680-886d-6711d814c162",
   "metadata": {},
   "outputs": [
    {
     "name": "stdin",
     "output_type": "stream",
     "text": [
      "Enter the text that the model will speak hi my name is sharmeen and i am 22 years old, i just had a fight\n"
     ]
    }
   ],
   "source": [
    "text = input(\"Enter the text that the model will speak: \")"
   ]
  },
  {
   "cell_type": "code",
   "execution_count": 9,
   "id": "694a2aea-2541-4920-9983-10972c01b281",
   "metadata": {},
   "outputs": [
    {
     "name": "stdout",
     "output_type": "stream",
     "text": [
      "text to speech conversion done successfully\n"
     ]
    }
   ],
   "source": [
    "# Convert text to speech\n",
    "engine.say(text)\n",
    "# Run the speech engine\n",
    "engine.runAndWait()\n",
    "print(\"text to speech conversion done successfully\")"
   ]
  },
  {
   "cell_type": "code",
   "execution_count": null,
   "id": "9f30479b-5822-4a00-9754-1f854481aee4",
   "metadata": {},
   "outputs": [],
   "source": []
  }
 ],
 "metadata": {
  "kernelspec": {
   "display_name": "Python 3 (ipykernel)",
   "language": "python",
   "name": "python3"
  },
  "language_info": {
   "codemirror_mode": {
    "name": "ipython",
    "version": 3
   },
   "file_extension": ".py",
   "mimetype": "text/x-python",
   "name": "python",
   "nbconvert_exporter": "python",
   "pygments_lexer": "ipython3",
   "version": "3.12.7"
  }
 },
 "nbformat": 4,
 "nbformat_minor": 5
}
